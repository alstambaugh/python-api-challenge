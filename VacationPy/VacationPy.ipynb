{
 "cells": [
  {
   "cell_type": "code",
   "execution_count": 1,
   "metadata": {},
   "outputs": [],
   "source": [
    "# Dependencies and Setup\n",
    "import matplotlib.pyplot as plt\n",
    "import pandas as pd\n",
    "import numpy as np\n",
    "import requests\n",
    "import gmaps\n",
    "import os\n",
    "\n",
    "# Import API key\n",
    "from config import g_key"
   ]
  },
  {
   "cell_type": "code",
   "execution_count": 2,
   "metadata": {},
   "outputs": [],
   "source": [
    "#Get CSV from WeatherPy\n",
    "cities_df = pd.read_csv(\"../WeatherPy/Output_Data/cities.csv\")"
   ]
  },
  {
   "cell_type": "markdown",
   "metadata": {},
   "source": [
    "### Humidity Heatmap"
   ]
  },
  {
   "cell_type": "code",
   "execution_count": 14,
   "metadata": {},
   "outputs": [
    {
     "data": {
      "application/vnd.jupyter.widget-view+json": {
       "model_id": "11b151d17f234594bad1eaf1a305ad3e",
       "version_major": 2,
       "version_minor": 0
      },
      "text/plain": [
       "Figure(layout=FigureLayout(border='1px solid black', height='500px', margin='0 auto 0 auto', padding='1px', wi…"
      ]
     },
     "metadata": {},
     "output_type": "display_data"
    }
   ],
   "source": [
    "gmaps.configure(api_key=g_key)\n",
    "\n",
    "locations = cities_df[[\"Lat\", \"Lng\"]]\n",
    "humidity = cities_df[\"Humidity\"].astype(float)\n",
    "\n",
    "# Customize the size of the map\n",
    "figure_layout = {\n",
    "    'width': '600px',\n",
    "    'height': '500px',\n",
    "    'border': '1px solid black',\n",
    "    'padding': '1px',\n",
    "    'margin': '0 auto 0 auto',\n",
    "}\n",
    "fig = gmaps.figure(layout=figure_layout)\n",
    "\n",
    "# Create heat layer\n",
    "heat_layer = gmaps.heatmap_layer(locations, weights=humidity, \n",
    "                                 dissipating=False, max_intensity=100,\n",
    "                                 point_radius=2)\n",
    "\n",
    "\n",
    "# Add layer\n",
    "fig.add_layer(heat_layer)\n",
    "\n",
    "# Display figure\n",
    "fig"
   ]
  },
  {
   "cell_type": "markdown",
   "metadata": {},
   "source": [
    "### Create new DataFrame fitting weather criteria"
   ]
  },
  {
   "cell_type": "code",
   "execution_count": 4,
   "metadata": {},
   "outputs": [],
   "source": [
    "ideal_df = cities_df.loc[(cities_df[\"Max Temp\"] > 60) & (cities_df[\"Max Temp\"] < 85) & \\\n",
    "                         (cities_df[\"Humidity\"] < 40) & (cities_df[\"Wind Speed\"] < 10) & \\\n",
    "                         (cities_df[\"Cloudiness\"] < 50), :]\n",
    "\n",
    "mapcities_df = ideal_df.dropna()\n",
    "mapcities_df = mapcities_df.reset_index(drop=True)"
   ]
  },
  {
   "cell_type": "markdown",
   "metadata": {},
   "source": [
    "### Hotel Map"
   ]
  },
  {
   "cell_type": "code",
   "execution_count": 5,
   "metadata": {},
   "outputs": [],
   "source": [
    "#Set up hotel dataframe\n",
    "hotel_df = mapcities_df.loc[:,[\"City\", \"Lat\", \"Lng\", \"Country\"]]\n",
    "hotel_df[\"Hotel Name\"] = \"\"\n"
   ]
  },
  {
   "cell_type": "code",
   "execution_count": 6,
   "metadata": {},
   "outputs": [
    {
     "name": "stdout",
     "output_type": "stream",
     "text": [
      "Retrieving Results for Index 0: Neyshabur.\n",
      "Closest hotel is Amiran Hotel.\n",
      "------------\n",
      "Retrieving Results for Index 1: Mount Isa.\n",
      "Closest hotel is ibis Styles Mt Isa Verona.\n",
      "------------\n",
      "Retrieving Results for Index 2: Tursunzoda.\n",
      "Closest hotel is Stoyanka Charli.\n",
      "------------\n",
      "Retrieving Results for Index 3: Narsaq.\n",
      "Closest hotel is Hotel Narsaq.\n",
      "------------\n",
      "Retrieving Results for Index 4: Arrondissement de Foix.\n",
      "Closest hotel is Hôtel TerraNostra - Le Bellevue.\n",
      "------------\n",
      "Retrieving Results for Index 5: Arrondissement de Narbonne.\n",
      "Closest hotel is Bed & Breakfast Demeure de Roquelongue Saint-André de Roquelongue.\n",
      "------------\n",
      "Retrieving Results for Index 6: Jauja.\n",
      "Closest hotel is Hotel TunanMarca.\n",
      "------------\n",
      "Retrieving Results for Index 7: San Rafael.\n",
      "Closest hotel is Hotel San Rafael.\n",
      "------------\n",
      "Retrieving Results for Index 8: Kaniama.\n",
      "Missing field/result... skipping.\n",
      "------------\n",
      "Retrieving Results for Index 9: Española.\n",
      "Closest hotel is Santa Claran Hotel.\n",
      "------------\n"
     ]
    }
   ],
   "source": [
    "#API request to get hotel names\n",
    "base_url = \"https://maps.googleapis.com/maps/api/place/nearbysearch/json\"\n",
    "params = {\n",
    "    \"radius\": 5000,\n",
    "    \"type\": \"lodging\",\n",
    "    \"key\": g_key,\n",
    "}\n",
    "\n",
    "# use iterrows to iterate through pandas dataframe\n",
    "for index, row in hotel_df.iterrows():\n",
    "\n",
    "    # get location from df\n",
    "    location = f\"{row['Lat']},{row['Lng']}\"\n",
    "    city = row[\"City\"]\n",
    "\n",
    "    # add keyword to params dict\n",
    "    params[\"location\"] = location\n",
    "\n",
    "    # assemble url and make API request\n",
    "    print(f\"Retrieving Results for Index {index}: {city}.\")\n",
    "    response = requests.get(base_url, params=params).json()\n",
    "    \n",
    "    # extract results\n",
    "    results = response['results']\n",
    "    \n",
    "    try:\n",
    "        print(f\"Closest hotel is {results[0]['name']}.\")\n",
    "        \n",
    "        hotel_df.loc[index, 'Hotel Name'] = results[0]['name']\n",
    "        \n",
    "    except (KeyError, IndexError):\n",
    "        print(\"Missing field/result... skipping.\")\n",
    "        hotel_df.loc[index, 'Hotel Name'] = np.nan\n",
    "        \n",
    "    print(\"------------\")\n"
   ]
  },
  {
   "cell_type": "code",
   "execution_count": 7,
   "metadata": {},
   "outputs": [
    {
     "data": {
      "text/html": [
       "<div>\n",
       "<style scoped>\n",
       "    .dataframe tbody tr th:only-of-type {\n",
       "        vertical-align: middle;\n",
       "    }\n",
       "\n",
       "    .dataframe tbody tr th {\n",
       "        vertical-align: top;\n",
       "    }\n",
       "\n",
       "    .dataframe thead th {\n",
       "        text-align: right;\n",
       "    }\n",
       "</style>\n",
       "<table border=\"1\" class=\"dataframe\">\n",
       "  <thead>\n",
       "    <tr style=\"text-align: right;\">\n",
       "      <th></th>\n",
       "      <th>City</th>\n",
       "      <th>Lat</th>\n",
       "      <th>Lng</th>\n",
       "      <th>Country</th>\n",
       "      <th>Hotel Name</th>\n",
       "    </tr>\n",
       "  </thead>\n",
       "  <tbody>\n",
       "    <tr>\n",
       "      <th>0</th>\n",
       "      <td>Neyshabur</td>\n",
       "      <td>36.21</td>\n",
       "      <td>58.80</td>\n",
       "      <td>IR</td>\n",
       "      <td>Amiran Hotel</td>\n",
       "    </tr>\n",
       "    <tr>\n",
       "      <th>1</th>\n",
       "      <td>Mount Isa</td>\n",
       "      <td>-20.73</td>\n",
       "      <td>139.50</td>\n",
       "      <td>AU</td>\n",
       "      <td>ibis Styles Mt Isa Verona</td>\n",
       "    </tr>\n",
       "    <tr>\n",
       "      <th>2</th>\n",
       "      <td>Tursunzoda</td>\n",
       "      <td>38.51</td>\n",
       "      <td>68.23</td>\n",
       "      <td>TJ</td>\n",
       "      <td>Stoyanka Charli</td>\n",
       "    </tr>\n",
       "    <tr>\n",
       "      <th>3</th>\n",
       "      <td>Narsaq</td>\n",
       "      <td>60.92</td>\n",
       "      <td>-46.05</td>\n",
       "      <td>GL</td>\n",
       "      <td>Hotel Narsaq</td>\n",
       "    </tr>\n",
       "    <tr>\n",
       "      <th>4</th>\n",
       "      <td>Arrondissement de Foix</td>\n",
       "      <td>42.83</td>\n",
       "      <td>1.58</td>\n",
       "      <td>FR</td>\n",
       "      <td>Hôtel TerraNostra - Le Bellevue</td>\n",
       "    </tr>\n",
       "    <tr>\n",
       "      <th>5</th>\n",
       "      <td>Arrondissement de Narbonne</td>\n",
       "      <td>43.08</td>\n",
       "      <td>2.83</td>\n",
       "      <td>FR</td>\n",
       "      <td>Bed &amp; Breakfast Demeure de Roquelongue Saint-A...</td>\n",
       "    </tr>\n",
       "    <tr>\n",
       "      <th>6</th>\n",
       "      <td>Jauja</td>\n",
       "      <td>-11.78</td>\n",
       "      <td>-75.50</td>\n",
       "      <td>PE</td>\n",
       "      <td>Hotel TunanMarca</td>\n",
       "    </tr>\n",
       "    <tr>\n",
       "      <th>7</th>\n",
       "      <td>San Rafael</td>\n",
       "      <td>-34.62</td>\n",
       "      <td>-68.33</td>\n",
       "      <td>AR</td>\n",
       "      <td>Hotel San Rafael</td>\n",
       "    </tr>\n",
       "    <tr>\n",
       "      <th>8</th>\n",
       "      <td>Española</td>\n",
       "      <td>35.99</td>\n",
       "      <td>-106.08</td>\n",
       "      <td>US</td>\n",
       "      <td>Santa Claran Hotel</td>\n",
       "    </tr>\n",
       "  </tbody>\n",
       "</table>\n",
       "</div>"
      ],
      "text/plain": [
       "                         City    Lat     Lng Country  \\\n",
       "0                   Neyshabur  36.21   58.80      IR   \n",
       "1                   Mount Isa -20.73  139.50      AU   \n",
       "2                  Tursunzoda  38.51   68.23      TJ   \n",
       "3                      Narsaq  60.92  -46.05      GL   \n",
       "4      Arrondissement de Foix  42.83    1.58      FR   \n",
       "5  Arrondissement de Narbonne  43.08    2.83      FR   \n",
       "6                       Jauja -11.78  -75.50      PE   \n",
       "7                  San Rafael -34.62  -68.33      AR   \n",
       "8                    Española  35.99 -106.08      US   \n",
       "\n",
       "                                          Hotel Name  \n",
       "0                                       Amiran Hotel  \n",
       "1                          ibis Styles Mt Isa Verona  \n",
       "2                                    Stoyanka Charli  \n",
       "3                                       Hotel Narsaq  \n",
       "4                    Hôtel TerraNostra - Le Bellevue  \n",
       "5  Bed & Breakfast Demeure de Roquelongue Saint-A...  \n",
       "6                                   Hotel TunanMarca  \n",
       "7                                   Hotel San Rafael  \n",
       "8                                 Santa Claran Hotel  "
      ]
     },
     "execution_count": 7,
     "metadata": {},
     "output_type": "execute_result"
    }
   ],
   "source": [
    "#Erase city with no result\n",
    "hotel_df = hotel_df.dropna()\n",
    "hotel_df = hotel_df.reset_index(drop=True)\n",
    "\n",
    "hotel_df"
   ]
  },
  {
   "cell_type": "code",
   "execution_count": 8,
   "metadata": {},
   "outputs": [],
   "source": [
    "# NOTE: Do not change any of the code in this cell\n",
    "\n",
    "# Using the template add the hotel marks to the heatmap\n",
    "info_box_template = \"\"\"\n",
    "<dl>\n",
    "<dt>Name</dt><dd>{Hotel Name}</dd>\n",
    "<dt>City</dt><dd>{City}</dd>\n",
    "<dt>Country</dt><dd>{Country}</dd>\n",
    "</dl>\n",
    "\"\"\"\n",
    "# Store the DataFrame Row\n",
    "# NOTE: be sure to update with your DataFrame name\n",
    "hotel_info = [info_box_template.format(**row) for index, row in hotel_df.iterrows()]\n",
    "hotel_locations = hotel_df[[\"Lat\", \"Lng\"]]"
   ]
  },
  {
   "cell_type": "code",
   "execution_count": 9,
   "metadata": {},
   "outputs": [
    {
     "data": {
      "application/vnd.jupyter.widget-view+json": {
       "model_id": "3782aceda2be4176a544ecddc79f9697",
       "version_major": 2,
       "version_minor": 0
      },
      "text/plain": [
       "Figure(layout=FigureLayout(border='1px solid black', height='500px', margin='0 auto 0 auto', padding='1px', wi…"
      ]
     },
     "metadata": {},
     "output_type": "display_data"
    }
   ],
   "source": [
    "# Add marker layer ontop of heat map\n",
    "# Assign the marker layer to a variable\n",
    "markers = gmaps.marker_layer(hotel_locations,\n",
    "        info_box_content=hotel_info)\n",
    "# Add the layer to the map\n",
    "fig.add_layer(markers)\n",
    "\n",
    "fig"
   ]
  },
  {
   "cell_type": "code",
   "execution_count": null,
   "metadata": {},
   "outputs": [],
   "source": []
  }
 ],
 "metadata": {
  "kernelspec": {
   "display_name": "Python 3",
   "language": "python",
   "name": "python3"
  },
  "language_info": {
   "codemirror_mode": {
    "name": "ipython",
    "version": 3
   },
   "file_extension": ".py",
   "mimetype": "text/x-python",
   "name": "python",
   "nbconvert_exporter": "python",
   "pygments_lexer": "ipython3",
   "version": "3.6.10"
  }
 },
 "nbformat": 4,
 "nbformat_minor": 4
}
